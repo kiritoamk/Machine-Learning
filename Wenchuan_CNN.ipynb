{
  "nbformat": 4,
  "nbformat_minor": 0,
  "metadata": {
    "colab": {
      "provenance": [],
      "authorship_tag": "ABX9TyOcj4ojeecqOUdtP9Zqq+FW",
      "include_colab_link": true
    },
    "kernelspec": {
      "name": "python3",
      "display_name": "Python 3"
    },
    "language_info": {
      "name": "python"
    }
  },
  "cells": [
    {
      "cell_type": "markdown",
      "metadata": {
        "id": "view-in-github",
        "colab_type": "text"
      },
      "source": [
        "<a href=\"https://colab.research.google.com/github/kiritoamk/Machine-Learning/blob/main/Wenchuan_CNN.ipynb\" target=\"_parent\"><img src=\"https://colab.research.google.com/assets/colab-badge.svg\" alt=\"Open In Colab\"/></a>"
      ]
    },
    {
      "cell_type": "code",
      "execution_count": 18,
      "metadata": {
        "id": "TwpkssOEmmgp"
      },
      "outputs": [],
      "source": [
        "import tensorflow as tf\n",
        "from tensorflow.keras import layers, models\n",
        "import numpy as np\n",
        "import os\n",
        "from PIL import Image"
      ]
    },
    {
      "cell_type": "code",
      "source": [
        "def load_images_from_uploaded(img_dir, mask_dir, img_size=(128, 128)):\n",
        "    images = []\n",
        "    masks = []\n",
        "    for img_file in os.listdir(img_dir):\n",
        "        img_path = os.path.join(img_dir, img_file)\n",
        "    for mask_file in os.listdir(mask_dir):\n",
        "        mask_path = os.path.join(mask_dir, mask_file)  # Assumes masks have the same name as images\n",
        "\n",
        "         # Check if the corresponding mask file exists\n",
        "        if not os.path.exists(mask_path):\n",
        "            print(f\"Mask for {img_file} not found. Skipping this file.\")\n",
        "            continue\n",
        "\n",
        "        img = Image.open(img_path)\n",
        "        mask = Image.open(mask_path)\n",
        "\n",
        "        # Resize to match model input size\n",
        "        img = img.resize(img_size)\n",
        "        mask = mask.resize(img_size)\n",
        "\n",
        "        # Normalize image and mask values\n",
        "        images.append(np.array(img) / 255.0)  # Scale images to [0, 1]\n",
        "        masks.append(np.array(mask) / 255.0)  # Scale masks to [0, 1]\n",
        "\n",
        "    return np.array(images), np.array(masks)"
      ],
      "metadata": {
        "id": "vSTvwDsdm0Ga"
      },
      "execution_count": 29,
      "outputs": []
    },
    {
      "cell_type": "code",
      "source": [
        "img_dir = '/content/img'        # Folder where you upload images\n",
        "mask_dir = '/content/mask'     # Folder where you upload masks"
      ],
      "metadata": {
        "id": "YeoMrT84nQYj"
      },
      "execution_count": 35,
      "outputs": []
    },
    {
      "cell_type": "code",
      "source": [
        "images, masks = load_images_from_uploaded(img_dir, mask_dir)"
      ],
      "metadata": {
        "id": "gQqKYwzOnap2"
      },
      "execution_count": 38,
      "outputs": []
    },
    {
      "cell_type": "code",
      "source": [
        "from sklearn.model_selection import train_test_split\n",
        "X_train, X_val, y_train, y_val = train_test_split(images, masks, test_size=0.2, random_state=42)"
      ],
      "metadata": {
        "id": "nFVayXRunj50"
      },
      "execution_count": 39,
      "outputs": []
    },
    {
      "source": [
        "import tensorflow as tf\n",
        "from tensorflow.keras import layers\n",
        "\n",
        "def unet_model(input_size=(128, 128, 3)):\n",
        "    inputs = tf.keras.Input(input_size)\n",
        "\n",
        "    # Encoder\n",
        "    c1 = layers.Conv2D(16, (3, 3), activation='relu', padding='same')(inputs)\n",
        "    p1 = layers.MaxPooling2D((2, 2))(c1)\n",
        "\n",
        "    c2 = layers.Conv2D(32, (3, 3), activation='relu', padding='same')(p1)\n",
        "    p2 = layers.MaxPooling2D((2, 2))(c2)\n",
        "\n",
        "    c3 = layers.Conv2D(64, (3, 3), activation='relu', padding='same')(p2)\n",
        "    p3 = layers.MaxPooling2D((2, 2))(c3)\n",
        "\n",
        "    # Bottleneck\n",
        "    c4 = layers.Conv2D(128, (3, 3), activation='relu', padding='same')(p3)\n",
        "\n",
        "    # Decoder with Conv2DTranspose\n",
        "    u1 = layers.Conv2DTranspose(64, (2, 2), strides=(2, 2), padding='same')(c4)\n",
        "    u1 = layers.Concatenate()([u1, c3])\n",
        "    u1 = layers.Conv2D(64, (3, 3), activation='relu', padding='same')(u1)\n",
        "\n",
        "    u2 = layers.Conv2DTranspose(32, (2, 2), strides=(2, 2), padding='same')(u1)\n",
        "    u2 = layers.Concatenate()([u2, c2])\n",
        "    u2 = layers.Conv2D(32, (3, 3), activation='relu', padding='same')(u2)\n",
        "\n",
        "    u3 = layers.Conv2DTranspose(16, (2, 2), strides=(2, 2), padding='same')(u2)\n",
        "    u3 = layers.Concatenate()([u3, c1])\n",
        "    u3 = layers.Conv2D(16, (3, 3), activation='relu', padding='same')(u3)\n",
        "\n",
        "    # Output layer for binary segmentation\n",
        "    outputs = layers.Conv2D(1, (1, 1), activation='sigmoid')(u3)\n",
        "\n",
        "    model = tf.keras.Model(inputs, outputs)\n",
        "    return model\n",
        "\n",
        "model = unet_model()\n"
      ],
      "cell_type": "code",
      "metadata": {
        "id": "Mc0gVNQwxjur"
      },
      "execution_count": 57,
      "outputs": []
    },
    {
      "cell_type": "code",
      "source": [
        "model.compile(optimizer='adam', loss='binary_crossentropy', metrics=['accuracy'])\n"
      ],
      "metadata": {
        "id": "0X61_V2un1Md"
      },
      "execution_count": 58,
      "outputs": []
    },
    {
      "cell_type": "code",
      "source": [
        "history = model.fit(\n",
        "    X_train, y_train,\n",
        "    epochs=10,\n",
        "    batch_size=8,\n",
        "    validation_data=(X_val, y_val)\n",
        ")"
      ],
      "metadata": {
        "colab": {
          "base_uri": "https://localhost:8080/"
        },
        "id": "_cZb6THtnoEt",
        "outputId": "06b0a069-6ab2-4d18-b904-4056e360d6f7"
      },
      "execution_count": 49,
      "outputs": [
        {
          "output_type": "stream",
          "name": "stdout",
          "text": [
            "Epoch 1/10\n",
            "\u001b[1m18/18\u001b[0m \u001b[32m━━━━━━━━━━━━━━━━━━━━\u001b[0m\u001b[37m\u001b[0m \u001b[1m21s\u001b[0m 881ms/step - accuracy: 0.7893 - loss: 0.5254 - val_accuracy: 0.9590 - val_loss: 0.0026\n",
            "Epoch 2/10\n",
            "\u001b[1m18/18\u001b[0m \u001b[32m━━━━━━━━━━━━━━━━━━━━\u001b[0m\u001b[37m\u001b[0m \u001b[1m19s\u001b[0m 845ms/step - accuracy: 0.9531 - loss: 0.0030 - val_accuracy: 0.9590 - val_loss: 0.0026\n",
            "Epoch 3/10\n",
            "\u001b[1m18/18\u001b[0m \u001b[32m━━━━━━━━━━━━━━━━━━━━\u001b[0m\u001b[37m\u001b[0m \u001b[1m19s\u001b[0m 747ms/step - accuracy: 0.9528 - loss: 0.0030 - val_accuracy: 0.9590 - val_loss: 0.0026\n",
            "Epoch 4/10\n",
            "\u001b[1m18/18\u001b[0m \u001b[32m━━━━━━━━━━━━━━━━━━━━\u001b[0m\u001b[37m\u001b[0m \u001b[1m13s\u001b[0m 720ms/step - accuracy: 0.9436 - loss: 0.0036 - val_accuracy: 0.9590 - val_loss: 0.0026\n",
            "Epoch 5/10\n",
            "\u001b[1m18/18\u001b[0m \u001b[32m━━━━━━━━━━━━━━━━━━━━\u001b[0m\u001b[37m\u001b[0m \u001b[1m25s\u001b[0m 960ms/step - accuracy: 0.9469 - loss: 0.0034 - val_accuracy: 0.9590 - val_loss: 0.0026\n",
            "Epoch 6/10\n",
            "\u001b[1m18/18\u001b[0m \u001b[32m━━━━━━━━━━━━━━━━━━━━\u001b[0m\u001b[37m\u001b[0m \u001b[1m15s\u001b[0m 814ms/step - accuracy: 0.9455 - loss: 0.0034 - val_accuracy: 0.9590 - val_loss: 0.0026\n",
            "Epoch 7/10\n",
            "\u001b[1m18/18\u001b[0m \u001b[32m━━━━━━━━━━━━━━━━━━━━\u001b[0m\u001b[37m\u001b[0m \u001b[1m20s\u001b[0m 802ms/step - accuracy: 0.9453 - loss: 0.0035 - val_accuracy: 0.9590 - val_loss: 0.0026\n",
            "Epoch 8/10\n",
            "\u001b[1m18/18\u001b[0m \u001b[32m━━━━━━━━━━━━━━━━━━━━\u001b[0m\u001b[37m\u001b[0m \u001b[1m20s\u001b[0m 759ms/step - accuracy: 0.9489 - loss: 0.0032 - val_accuracy: 0.9590 - val_loss: 0.0026\n",
            "Epoch 9/10\n",
            "\u001b[1m18/18\u001b[0m \u001b[32m━━━━━━━━━━━━━━━━━━━━\u001b[0m\u001b[37m\u001b[0m \u001b[1m14s\u001b[0m 725ms/step - accuracy: 0.9516 - loss: 0.0031 - val_accuracy: 0.9590 - val_loss: 0.0026\n",
            "Epoch 10/10\n",
            "\u001b[1m18/18\u001b[0m \u001b[32m━━━━━━━━━━━━━━━━━━━━\u001b[0m\u001b[37m\u001b[0m \u001b[1m21s\u001b[0m 793ms/step - accuracy: 0.9501 - loss: 0.0032 - val_accuracy: 0.9590 - val_loss: 0.0026\n"
          ]
        }
      ]
    },
    {
      "cell_type": "code",
      "source": [
        "model.save('landslide_segmentation_model.h5')"
      ],
      "metadata": {
        "colab": {
          "base_uri": "https://localhost:8080/"
        },
        "id": "EOi_kn43tTck",
        "outputId": "69acb5f0-2c66-4a2a-d8cc-6232d0836ef6"
      },
      "execution_count": 50,
      "outputs": [
        {
          "output_type": "stream",
          "name": "stderr",
          "text": [
            "WARNING:absl:You are saving your model as an HDF5 file via `model.save()` or `keras.saving.save_model(model)`. This file format is considered legacy. We recommend using instead the native Keras format, e.g. `model.save('my_model.keras')` or `keras.saving.save_model(model, 'my_model.keras')`. \n"
          ]
        }
      ]
    },
    {
      "cell_type": "code",
      "source": [
        "import matplotlib.pyplot as plt"
      ],
      "metadata": {
        "id": "7lnnLX8qzYme"
      },
      "execution_count": 51,
      "outputs": []
    }
  ]
}